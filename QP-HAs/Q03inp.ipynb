{
 "cells": [
  {
   "cell_type": "code",
   "execution_count": 53,
   "metadata": {},
   "outputs": [],
   "source": [
    "import sys\n",
    "import random\n",
    "\n",
    "sys.argv = [\"prg.py\", 1000, 2000]\n",
    "if len(sys.argv) !=3:\n",
    "  print(\"Usage: \", sys.argv[0], \"<number-1> <number-2\")\n",
    "  exit()\n",
    "num1 = int(sys.argv[1])\n",
    "num2 = int(sys.argv[2])"
   ]
  },
  {
   "cell_type": "code",
   "execution_count": 54,
   "metadata": {},
   "outputs": [],
   "source": [
    "def writedata(filename, arr):\n",
    "  #write the data\n",
    "  of = open(filename,\"w+\")\n",
    "  of.write(\"\\n\".join([str(ele) for ele in arr]))\n",
    "  of.write(\"\\n\")\n",
    "  of.close()\n",
    "  return"
   ]
  },
  {
   "cell_type": "code",
   "execution_count": 55,
   "metadata": {},
   "outputs": [],
   "source": [
    "def remove_and_dup(arr):\n",
    "  num = len(arr)\n",
    "  # remove some random number of elements from array\n",
    "  rnd = random.randint(1, num // 2)\n",
    "  #print(num, rnd)\n",
    "  for i in range(rnd):\n",
    "    x=arr.pop(random.randint(0, num - i - 1))\n",
    "    #print(\"popped out \", x)\n",
    "  #print(arr)\n",
    "  lenarr = num - rnd\n",
    "  # determine count of numbers to be repeated\n",
    "  rnd = random.randint(0, lenarr // 2)\n",
    "  #print(\"num of elems to repeat\", rnd)\n",
    "  for i in range(rnd): # for each such value to be repeted\n",
    "    numdup = random.randint(1,10) # at most 10 repetitions\n",
    "    idx = random.randint(0,lenarr + i - 1)\n",
    "    #print(\"element at idx\", idx, \"value\", arr[idx], \"to be repeated\", numdup, \"times\")\n",
    "    dup = arr[idx] # the value of number to be repeated\n",
    "    for j in range(numdup):\n",
    "      arr.insert(idx, dup)\n",
    "    #print(arr)\n"
   ]
  },
  {
   "cell_type": "code",
   "execution_count": 56,
   "metadata": {},
   "outputs": [],
   "source": [
    "arr1 = [i for i in range(1, num1 + 1)]\n",
    "arr2 = [i for i in range(1, num2 + 1)]\n"
   ]
  },
  {
   "cell_type": "code",
   "execution_count": 57,
   "metadata": {},
   "outputs": [],
   "source": [
    "#print(arr1, arr2)"
   ]
  },
  {
   "cell_type": "code",
   "execution_count": 58,
   "metadata": {},
   "outputs": [],
   "source": [
    "remove_and_dup(arr1)"
   ]
  },
  {
   "cell_type": "code",
   "execution_count": 59,
   "metadata": {},
   "outputs": [],
   "source": [
    "remove_and_dup(arr2)"
   ]
  },
  {
   "cell_type": "code",
   "execution_count": 60,
   "metadata": {},
   "outputs": [],
   "source": [
    "writedata(\"Q03a.inp\", arr1)"
   ]
  },
  {
   "cell_type": "code",
   "execution_count": 61,
   "metadata": {},
   "outputs": [],
   "source": [
    "writedata(\"Q03b.inp\", arr2)"
   ]
  },
  {
   "cell_type": "code",
   "execution_count": null,
   "metadata": {},
   "outputs": [],
   "source": []
  }
 ],
 "metadata": {
  "kernelspec": {
   "display_name": "Python 3",
   "language": "python",
   "name": "python3"
  },
  "language_info": {
   "codemirror_mode": {
    "name": "ipython",
    "version": 3
   },
   "file_extension": ".py",
   "mimetype": "text/x-python",
   "name": "python",
   "nbconvert_exporter": "python",
   "pygments_lexer": "ipython3",
   "version": "3.7.4"
  }
 },
 "nbformat": 4,
 "nbformat_minor": 2
}
